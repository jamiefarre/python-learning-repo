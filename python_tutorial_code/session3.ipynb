{
 "cells": [
  {
   "cell_type": "code",
   "execution_count": 1,
   "metadata": {},
   "outputs": [],
   "source": [
    "import numpy as np\n",
    "# np.timedelta64(1, 'Y')"
   ]
  },
  {
   "cell_type": "code",
   "execution_count": null,
   "metadata": {},
   "outputs": [],
   "source": [
    "house_prices['Period'] = pd.to_datetime(house_prices['Period'], format=\"%Y-%m\")\n",
    "\n",
    "house_prices"
   ]
  },
  {
   "cell_type": "code",
   "execution_count": null,
   "metadata": {},
   "outputs": [],
   "source": [
    "child_identifiers['ExpectedPersonBirthDate'] = pd.to_datetime(child_identifiers['ExpectedPersonBirthDate'], format=\"%Y-%m-%d\")\n",
    "child_identifiers.info()"
   ]
  },
  {
   "cell_type": "code",
   "execution_count": null,
   "metadata": {},
   "outputs": [],
   "source": [
    "child_identifiers['ExpectedPersonBirthDate'] = pd.to_datetime(child_identifiers['ExpectedPersonBirthDate'], format=\"%Y-%m-%d\")\n",
    "child_identifiers['PersonBirthDate'] = pd.to_datetime(child_identifiers['PersonBirthDate'], format=\"%Y-%m-%d\", errors=\"ignore\")\n",
    "child_identifiers['PersonDeathDate'] = pd.to_datetime(child_identifiers['PersonDeathDate'], format=\"%Y-%m-%d\", errors=\"coerce\")\n",
    "child_identifiers.info()"
   ]
  },
  {
   "cell_type": "code",
   "execution_count": null,
   "metadata": {},
   "outputs": [],
   "source": [
    "house_prices['Age of data'] = pd.to_datetime('today') - house_prices['Period']\n",
    "\n",
    "house_prices['Age of data'] = house_prices['Age of data'] / pd.Timedelta(365.25, 'd')\n",
    "\n",
    "house_prices['Age of data'] = house_prices['Age of data'].astype('int')\n",
    "\n",
    "house_prices['Age of data']"
   ]
  },
  {
   "cell_type": "code",
   "execution_count": 4,
   "metadata": {},
   "outputs": [
    {
     "name": "stdout",
     "output_type": "stream",
     "text": [
      "4\n",
      "5\n",
      "4.8\n"
     ]
    }
   ],
   "source": [
    "float1 = 4.8\n",
    "print(int(float1))\n",
    "print(round(float1))\n",
    "print(round(float1, 2))"
   ]
  },
  {
   "cell_type": "code",
   "execution_count": null,
   "metadata": {},
   "outputs": [],
   "source": []
  }
 ],
 "metadata": {
  "kernelspec": {
   "display_name": "Python 3",
   "language": "python",
   "name": "python3"
  },
  "language_info": {
   "codemirror_mode": {
    "name": "ipython",
    "version": 3
   },
   "file_extension": ".py",
   "mimetype": "text/x-python",
   "name": "python",
   "nbconvert_exporter": "python",
   "pygments_lexer": "ipython3",
   "version": "3.10.13"
  }
 },
 "nbformat": 4,
 "nbformat_minor": 2
}
