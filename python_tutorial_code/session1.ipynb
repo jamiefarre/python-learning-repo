{
 "cells": [
  {
   "cell_type": "code",
   "execution_count": 1,
   "metadata": {},
   "outputs": [
    {
     "name": "stdout",
     "output_type": "stream",
     "text": [
      "<class 'str'>\n"
     ]
    }
   ],
   "source": [
    "num_1 = 5 # int\n",
    "num_2 = 5.0 # float\n",
    "num_3 = \"5\" # str\n",
    "\n",
    "print(type(num_3))"
   ]
  },
  {
   "cell_type": "code",
   "execution_count": 2,
   "metadata": {},
   "outputs": [
    {
     "name": "stdout",
     "output_type": "stream",
     "text": [
      "<class 'float'>\n"
     ]
    }
   ],
   "source": [
    "x = 5\n",
    "y = 10.0\n",
    "z = x + y\n",
    "\n",
    "print(type(z))"
   ]
  },
  {
   "cell_type": "markdown",
   "metadata": {},
   "source": [
    "In this cell, initialise two numeric variables and find their product\n",
    "using the * operator for multiplication and assign this to a new variable.\n",
    "Print the new variable\n",
    " \n",
    "The radius of a circle is 2, assume that Pi is 3.14. Assign both of these\n",
    "to suitably named variables and find the area of the circle.\n",
    "We can find the area of a circle by finding the product of Pi with the radius squared.\n",
    "You probably don't know how to square a number in Python yet, so use Google to work it out!"
   ]
  },
  {
   "cell_type": "code",
   "execution_count": 15,
   "metadata": {},
   "outputs": [
    {
     "name": "stdout",
     "output_type": "stream",
     "text": [
      "72 12.56\n"
     ]
    }
   ],
   "source": [
    "\n",
    "# exercise 1\n",
    "a = 8\n",
    "b = 9\n",
    "c = a*b\n",
    "\n",
    "# exercise 2\n",
    "rad = 2\n",
    "pi_1 = 3.14\n",
    "\n",
    "area = pi_1 * (rad ** 2)\n",
    "\n",
    "print(c, area)\n"
   ]
  },
  {
   "cell_type": "code",
   "execution_count": 16,
   "metadata": {},
   "outputs": [
    {
     "name": "stdout",
     "output_type": "stream",
     "text": [
      "My name is Will, and I like Trail Running.\n",
      "My name is Will, and I like Trail Running.\n"
     ]
    }
   ],
   "source": [
    "name = \"Will\"\n",
    "hobby = \"Trail Running\"\n",
    "\n",
    "phrase_1 = \"My name is \" + name + \", and I like \" + hobby + \".\"\n",
    "\n",
    "print(phrase_1)\n",
    "\n",
    "phrase_2 = f\"My name is {name}, and I like {hobby}.\"\n",
    "print(phrase_2)"
   ]
  },
  {
   "cell_type": "markdown",
   "metadata": {},
   "source": [
    "In this cell, initialise two appropriately named variables, one for your name and one for your job title.\n",
    "Next, combine them in an f string, assigned to a different, appropriately named variable.\n",
    "Finally, print the f string.\n",
    " \n",
    "Make a variable for a string and one for a number,\n",
    "Try and add them (not inside an f string) and see what happens"
   ]
  },
  {
   "cell_type": "code",
   "execution_count": 20,
   "metadata": {},
   "outputs": [
    {
     "name": "stdout",
     "output_type": "stream",
     "text": [
      "My name is Jamie, and I work as a Data Analyst.\n"
     ]
    }
   ],
   "source": [
    "name = \"Jamie\"\n",
    "job_title = \"Data Analyst\"\n",
    "\n",
    "intro = f\"My name is {name}, and I work as a {job_title}.\"\n",
    "print(intro)"
   ]
  },
  {
   "cell_type": "code",
   "execution_count": 24,
   "metadata": {},
   "outputs": [
    {
     "name": "stdout",
     "output_type": "stream",
     "text": [
      "567\n"
     ]
    }
   ],
   "source": [
    "num_str = \"123456789\"\n",
    "\n",
    "sub_str = num_str[4:7]\n",
    "\n",
    "print(sub_str)"
   ]
  },
  {
   "cell_type": "code",
   "execution_count": null,
   "metadata": {},
   "outputs": [],
   "source": []
  }
 ],
 "metadata": {
  "kernelspec": {
   "display_name": "Python 3",
   "language": "python",
   "name": "python3"
  },
  "language_info": {
   "codemirror_mode": {
    "name": "ipython",
    "version": 3
   },
   "file_extension": ".py",
   "mimetype": "text/x-python",
   "name": "python",
   "nbconvert_exporter": "python",
   "pygments_lexer": "ipython3",
   "version": "3.10.13"
  }
 },
 "nbformat": 4,
 "nbformat_minor": 2
}
