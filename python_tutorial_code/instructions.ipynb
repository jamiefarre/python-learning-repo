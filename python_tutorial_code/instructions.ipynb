{
 "cells": [
  {
   "cell_type": "markdown",
   "metadata": {},
   "source": [
    "to save files in repo\n",
    "git add file path\n",
    "git status\n",
    "git commit -m (with message)\n",
    "git push origin HEAD"
   ]
  },
  {
   "cell_type": "markdown",
   "metadata": {},
   "source": [
    "strftime cheatsheet for date format"
   ]
  },
  {
   "cell_type": "markdown",
   "metadata": {},
   "source": [
    "errors='ignore' skips over errors\n",
    "errors='coerce' change to NAN"
   ]
  },
  {
   "cell_type": "code",
   "execution_count": null,
   "metadata": {},
   "outputs": [],
   "source": []
  }
 ],
 "metadata": {
  "kernelspec": {
   "display_name": "Python 3",
   "language": "python",
   "name": "python3"
  },
  "language_info": {
   "name": "python",
   "version": "3.10.13"
  }
 },
 "nbformat": 4,
 "nbformat_minor": 2
}
