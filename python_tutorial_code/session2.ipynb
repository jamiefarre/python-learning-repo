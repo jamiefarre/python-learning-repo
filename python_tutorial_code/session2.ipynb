{
 "cells": [
  {
   "cell_type": "code",
   "execution_count": 14,
   "metadata": {},
   "outputs": [],
   "source": [
    "phrase = \"Hello World, Jamie here!\""
   ]
  },
  {
   "cell_type": "code",
   "execution_count": 15,
   "metadata": {},
   "outputs": [
    {
     "name": "stdout",
     "output_type": "stream",
     "text": [
      "!ereh eimaJ ,dlroW olleH\n",
      "lo World, Jamie here!\n",
      "Hello World, Jamie \n"
     ]
    }
   ],
   "source": [
    "# [ start : stop : step]\n",
    "sub_string_1 = phrase[-1::-1]\n",
    "print(sub_string_1)\n",
    "\n",
    "sub_string_2 = phrase[3:]\n",
    "print(sub_string_2)\n",
    "\n",
    "sub_string_3 = phrase[:-5]\n",
    "print(sub_string_3)"
   ]
  },
  {
   "cell_type": "code",
   "execution_count": 16,
   "metadata": {},
   "outputs": [
    {
     "name": "stdout",
     "output_type": "stream",
     "text": [
      "<class 'list'>\n"
     ]
    }
   ],
   "source": [
    "list_1 = []\n",
    "\n",
    "print(type(list_1))"
   ]
  },
  {
   "cell_type": "code",
   "execution_count": 17,
   "metadata": {},
   "outputs": [
    {
     "name": "stdout",
     "output_type": "stream",
     "text": [
      "['red', 'green', 'blue', 'teal']\n",
      "['red', 'green', 'blue', 'teal', 'purple']\n"
     ]
    }
   ],
   "source": [
    "colour = \"teal\"\n",
    "\n",
    "colours = [\"red\", \"green\",\"blue\", colour]\n",
    "print(colours)\n",
    "\n",
    "colours.append(\"purple\")\n",
    "print(colours)"
   ]
  },
  {
   "cell_type": "markdown",
   "metadata": {},
   "source": [
    "function includes a process inside it\n",
    "methods are specific to the types of objects its used on"
   ]
  },
  {
   "cell_type": "code",
   "execution_count": 18,
   "metadata": {},
   "outputs": [
    {
     "name": "stdout",
     "output_type": "stream",
     "text": [
      "['red', 'green', 'blue', 'teal', 'purple', ['black', 'orange']]\n"
     ]
    }
   ],
   "source": [
    "extra_colours = [\"black\",\"orange\"]\n",
    "colours.append(extra_colours)\n",
    "print(colours)"
   ]
  },
  {
   "cell_type": "code",
   "execution_count": 23,
   "metadata": {},
   "outputs": [
    {
     "name": "stdout",
     "output_type": "stream",
     "text": [
      "a\n"
     ]
    }
   ],
   "source": [
    "print(colours[-1][2])"
   ]
  },
  {
   "cell_type": "code",
   "execution_count": 20,
   "metadata": {},
   "outputs": [
    {
     "name": "stdout",
     "output_type": "stream",
     "text": [
      "['red', 'green', 'blue', 'teal', 'purple', ['black', 'orange'], 'black', 'orange', 'black', 'orange']\n"
     ]
    }
   ],
   "source": [
    "colours.extend(extra_colours)\n",
    "print(colours)"
   ]
  },
  {
   "cell_type": "code",
   "execution_count": 24,
   "metadata": {},
   "outputs": [
    {
     "ename": "SyntaxError",
     "evalue": "invalid syntax (3493831861.py, line 15)",
     "output_type": "error",
     "traceback": [
      "\u001b[0;36m  Cell \u001b[0;32mIn[24], line 15\u001b[0;36m\u001b[0m\n\u001b[0;31m    has context menu\u001b[0m\n\u001b[0m        ^\u001b[0m\n\u001b[0;31mSyntaxError\u001b[0m\u001b[0;31m:\u001b[0m invalid syntax\n"
     ]
    }
   ],
   "source": [
    "colour = \"teal\"\n",
    "colours = [\"red\", \"blue\", \"green\", colour]\n",
    "print(colours)\n",
    "colours.append('puple')\n",
    "print(colours)\n",
    "extra_colours = ['turquoise', \"teal\"]\n",
    "colours.append(extra_colours)\n",
    "print(colours[-1][1])\n",
    "colours.extend(extra_colours)\n",
    "print(colours)\n",
    "colours.remove('teal')\n",
    "print(colours)\n",
    "colours.remove('teal')\n",
    "print(colours)\n",
    "has context menu"
   ]
  },
  {
   "cell_type": "markdown",
   "metadata": {},
   "source": [
    "In this cell, make a list of a few foods and print it.\n",
    "Then extend the list with another food and print it.\n",
    "Next, make another list of foods, and use the extend method to \n",
    "add those extra foods as individual elements of the list, and print it.\n",
    "Finally, remove and element from the list and print the final list.\n",
    "Remember to always use a suitable name for your lists!"
   ]
  },
  {
   "cell_type": "code",
   "execution_count": 31,
   "metadata": {},
   "outputs": [
    {
     "name": "stdout",
     "output_type": "stream",
     "text": [
      "['oranges', 'apples', 'peas', 'sweetcorn']\n"
     ]
    }
   ],
   "source": [
    "foods = [\"oranges\",\"apples\",\"peas\",\"sweetcorn\"]\n",
    "print(foods)"
   ]
  },
  {
   "cell_type": "code",
   "execution_count": 32,
   "metadata": {},
   "outputs": [
    {
     "name": "stdout",
     "output_type": "stream",
     "text": [
      "['oranges', 'apples', 'peas', 'sweetcorn', 'grapes', 'strawberries']\n"
     ]
    }
   ],
   "source": [
    "new_foods = [\"grapes\",\"strawberries\"]\n",
    "\n",
    "foods.extend(new_foods)\n",
    "\n",
    "print(foods)"
   ]
  },
  {
   "cell_type": "code",
   "execution_count": 33,
   "metadata": {},
   "outputs": [
    {
     "name": "stdout",
     "output_type": "stream",
     "text": [
      "['oranges', 'apples', 'sweetcorn', 'grapes', 'strawberries']\n"
     ]
    }
   ],
   "source": [
    "foods.remove(\"peas\")\n",
    "print(foods)"
   ]
  },
  {
   "cell_type": "code",
   "execution_count": 36,
   "metadata": {},
   "outputs": [
    {
     "name": "stdout",
     "output_type": "stream",
     "text": [
      "['oranges', 'apples', 'sweetcorn', 'grapes']\n"
     ]
    }
   ],
   "source": [
    "print(foods[:-1])"
   ]
  },
  {
   "cell_type": "code",
   "execution_count": 37,
   "metadata": {},
   "outputs": [
    {
     "name": "stdout",
     "output_type": "stream",
     "text": [
      "['apples', 'grapes', 'oranges', 'strawberries', 'sweetcorn']\n"
     ]
    }
   ],
   "source": [
    "print(sorted(foods))"
   ]
  },
  {
   "cell_type": "code",
   "execution_count": 39,
   "metadata": {},
   "outputs": [
    {
     "data": {
      "text/plain": [
       "['red',\n",
       " 'green',\n",
       " 'blue',\n",
       " 'teal',\n",
       " 'purple',\n",
       " ['black', 'orange'],\n",
       " 'black',\n",
       " 'orange',\n",
       " 'black',\n",
       " 'orange']"
      ]
     },
     "execution_count": 39,
     "metadata": {},
     "output_type": "execute_result"
    }
   ],
   "source": [
    "colours"
   ]
  },
  {
   "cell_type": "code",
   "execution_count": 41,
   "metadata": {},
   "outputs": [
    {
     "name": "stdout",
     "output_type": "stream",
     "text": [
      "['apples', 'grapes', 'oranges', 'strawberries', 'sweetcorn', 'sausages']\n"
     ]
    }
   ],
   "source": [
    "foods.append(\"sausages\")\n",
    "print(foods)"
   ]
  },
  {
   "cell_type": "code",
   "execution_count": 48,
   "metadata": {},
   "outputs": [],
   "source": [
    "foods_list = [ 'pasta', 'pasty', 'pizza', 'sausages', 'burger', 'cabbage', 'chocolate']"
   ]
  },
  {
   "cell_type": "code",
   "execution_count": 49,
   "metadata": {},
   "outputs": [
    {
     "name": "stdout",
     "output_type": "stream",
     "text": [
      "['burger', 'cabbage', 'chocolate', 'pasta', 'pasty', 'pizza', 'sausages']\n",
      "['burger', 'cabbage', 'chocolate', 'pasta', 'pasty', 'pizza', 'sausages']\n",
      "['sausages', 'pizza', 'pasty', 'pasta', 'chocolate', 'cabbage', 'burger']\n"
     ]
    }
   ],
   "source": [
    "# sort your final list of foods using the .sort() method and the sorted() function, printing both, also try reversing it!\n",
    "foods_list = [ 'pasta', 'pasty', 'pizza', 'sausages', 'burger', 'cabbage', 'chocolate']\n",
    "sorted_food = sorted(foods_list)\n",
    "foods_list.sort()\n",
    "print(sorted_food)\n",
    "print(foods_list)\n",
    "\n",
    "foods_list.sort(reverse=True)\n",
    "print(foods_list)"
   ]
  },
  {
   "cell_type": "code",
   "execution_count": 43,
   "metadata": {},
   "outputs": [
    {
     "data": {
      "text/plain": [
       "{'Will': 'purple',\n",
       " 'Andy': ['teal', 'red'],\n",
       " 'Naiomi': {'monday': 'blue', 'sunday': 'orange', 'other days': 'white'}}"
      ]
     },
     "execution_count": 43,
     "metadata": {},
     "output_type": "execute_result"
    }
   ],
   "source": [
    "favourite_colours = {\"Will\":\"purple\",\n",
    "                     \"Andy\":[\"teal\", \"red\"],\n",
    "                     \"Naiomi\":{\"monday\":\"blue\", \"sunday\":\"orange\", \"other days\":\"white\"}\n",
    "                     }\n",
    "favourite_colours"
   ]
  },
  {
   "cell_type": "code",
   "execution_count": 45,
   "metadata": {},
   "outputs": [
    {
     "data": {
      "text/plain": [
       "{'Will': 'purple',\n",
       " 'Andy': ['teal', 'red'],\n",
       " 'Naiomi': {'monday': 'blue', 'sunday': 'orange', 'other days': 'white'}}"
      ]
     },
     "execution_count": 45,
     "metadata": {},
     "output_type": "execute_result"
    }
   ],
   "source": [
    "favourite_colours = {\"Will\":\"purple\",\n",
    "                     \"Andy\":[\"teal\", \"red\"],\n",
    "                     \"Naiomi\":{\"monday\":\"blue\", \"sunday\":\"orange\", \"other days\":\"white\"}\n",
    "                     }\n",
    "\n",
    "favourite_colours"
   ]
  },
  {
   "cell_type": "code",
   "execution_count": 46,
   "metadata": {},
   "outputs": [
    {
     "name": "stdout",
     "output_type": "stream",
     "text": [
      "dict_items([('Will', 'purple'), ('Andy', ['teal', 'red']), ('Naiomi', {'monday': 'blue', 'sunday': 'orange', 'other days': 'white'})])\n",
      "dict_keys(['Will', 'Andy', 'Naiomi'])\n",
      "dict_values(['purple', ['teal', 'red'], {'monday': 'blue', 'sunday': 'orange', 'other days': 'white'}])\n"
     ]
    }
   ],
   "source": [
    "print(favourite_colours.items())\n",
    "print(favourite_colours.keys())\n",
    "print(favourite_colours.values())"
   ]
  },
  {
   "cell_type": "code",
   "execution_count": 51,
   "metadata": {},
   "outputs": [],
   "source": [
    "food_dict = {\"The Pub\":foods_list,\n",
    "             \"The Chippy\":[\"Fish\", \"Chips\", \"Battered Mars Bars\"],\n",
    "             \"Fine Dining\":{\"Week days\":\"standard menu\",\n",
    "                            \"Fridays and Weekends\":\"Tasting Menu\"}}\n",
    "# Using the key, print the values of one of the restaurants in your dicitonary.\n",
    "# Add a new key:value pair to your dictionary, as above.\n",
    "# Check whether 'mcdonalds' is a key in your dictionary, printing the answer."
   ]
  },
  {
   "cell_type": "code",
   "execution_count": 52,
   "metadata": {},
   "outputs": [
    {
     "name": "stdout",
     "output_type": "stream",
     "text": [
      "['sausages', 'pizza', 'pasty', 'pasta', 'chocolate', 'cabbage', 'burger']\n",
      "{'The Pub': ['sausages', 'pizza', 'pasty', 'pasta', 'chocolate', 'cabbage', 'burger'], 'The Chippy': ['Fish', 'Chips', 'Battered Mars Bars'], 'Fine Dining': {'Week days': 'standard menu', 'Fridays and Weekends': 'Tasting Menu'}, 'mcdonalds': 'Burger'}\n",
      "True\n"
     ]
    }
   ],
   "source": [
    "food_dict = {\"The Pub\":foods_list,\n",
    "             \"The Chippy\":[\"Fish\", \"Chips\", \"Battered Mars Bars\"],\n",
    "             \"Fine Dining\":{\"Week days\":\"standard menu\",\n",
    "                            \"Fridays and Weekends\":\"Tasting Menu\"}}\n",
    "# Using the key, print the values of one of the restaurants in your dicitonary.\n",
    "# Add a new key:value pair to your dictionary, as above.\n",
    "# Check whether 'mcdonalds' is a key in your dictionary, printing the answer.\n",
    "print(food_dict['The Pub'])\n",
    "\n",
    "food_dict['mcdonalds'] = \"Burger\"\n",
    "print(food_dict)\n",
    "\n",
    "print('mcdonalds' in food_dict)"
   ]
  }
 ],
 "metadata": {
  "kernelspec": {
   "display_name": "Python 3",
   "language": "python",
   "name": "python3"
  },
  "language_info": {
   "codemirror_mode": {
    "name": "ipython",
    "version": 3
   },
   "file_extension": ".py",
   "mimetype": "text/x-python",
   "name": "python",
   "nbconvert_exporter": "python",
   "pygments_lexer": "ipython3",
   "version": "3.10.13"
  }
 },
 "nbformat": 4,
 "nbformat_minor": 2
}
